{
 "cells": [
  {
   "cell_type": "code",
   "execution_count": 1,
   "id": "871105f2",
   "metadata": {},
   "outputs": [],
   "source": [
    "import cv2\n",
    "import numpy as np\n",
    "\n",
    "# Buka gambar as grayscale (biar sederhana)\n",
    "image = cv2.imread('gambar_asli.jpg', cv2.IMREAD_GRAYSCALE)\n",
    "watermark = cv2.imread('watermark.png', cv2.IMREAD_GRAYSCALE)\n",
    "\n",
    "# Resize watermark agar lebih kecil dari gambar\n",
    "watermark = cv2.resize(watermark, (64, 64))  # bisa disesuaikan"
   ]
  },
  {
   "cell_type": "code",
   "execution_count": 2,
   "id": "4828ff50",
   "metadata": {},
   "outputs": [],
   "source": [
    "def apply_dct(img):\n",
    "    img = np.float32(img) / 255.0\n",
    "    return cv2.dct(img)\n",
    "\n",
    "def apply_idct(img):\n",
    "    return cv2.idct(img)\n",
    "\n",
    "# Ambil blok kiri atas untuk ditandai (contoh 128x128)\n",
    "block = image[0:128, 0:128]\n",
    "dct_block = apply_dct(block)\n"
   ]
  },
  {
   "cell_type": "code",
   "execution_count": 3,
   "id": "8ba6be12",
   "metadata": {},
   "outputs": [],
   "source": [
    "# Normalisasi watermark biar 0–1\n",
    "wm = np.float32(watermark) / 255.0\n",
    "alpha = 0.1  # kekuatan watermark (jangan terlalu besar)\n",
    "\n",
    "# Sisipkan ke bagian frekuensi tengah (misal baris 20–84, kolom 20–84)\n",
    "dct_block[20:84, 20:84] += alpha * wm\n"
   ]
  },
  {
   "cell_type": "code",
   "execution_count": 4,
   "id": "927f0e87",
   "metadata": {},
   "outputs": [
    {
     "data": {
      "text/plain": [
       "True"
      ]
     },
     "execution_count": 4,
     "metadata": {},
     "output_type": "execute_result"
    }
   ],
   "source": [
    "# Balikkan ke ruang gambar\n",
    "idct_block = apply_idct(dct_block)\n",
    "idct_block = np.uint8(idct_block * 255.0)\n",
    "\n",
    "# Ganti blok awal dengan yang sudah diberi watermark\n",
    "watermarked_image = image.copy()\n",
    "watermarked_image[0:128, 0:128] = idct_block\n",
    "\n",
    "cv2.imwrite(\"hasil_watermarked.jpg\", watermarked_image)\n"
   ]
  },
  {
   "cell_type": "code",
   "execution_count": null,
   "id": "b3ac7195",
   "metadata": {},
   "outputs": [],
   "source": [
    "def extract_watermark(watermarked_img):\n",
    "    block = watermarked_img[0:128, 0:128]\n",
    "    dct_block = apply_dct(np.float32(block) / 255.0)\n",
    "    extracted = (dct_block[20:84, 20:84]) / alpha\n",
    "    return np.uint8(np.clip(extracted * 255.0, 0, 255))\n",
    "\n",
    "img_with_wm = cv2.imread('hasil_watermarked.jpg', cv2.IMREAD_GRAYSCALE)\n",
    "extracted_wm = extract_watermark(img_with_wm)\n",
    "\n",
    "cv2.imwrite(\"extracted_watermark.jpg\", extracted_wm)\n"
   ]
  }
 ],
 "metadata": {
  "kernelspec": {
   "display_name": "Python 3",
   "language": "python",
   "name": "python3"
  },
  "language_info": {
   "codemirror_mode": {
    "name": "ipython",
    "version": 3
   },
   "file_extension": ".py",
   "mimetype": "text/x-python",
   "name": "python",
   "nbconvert_exporter": "python",
   "pygments_lexer": "ipython3",
   "version": "3.13.3"
  }
 },
 "nbformat": 4,
 "nbformat_minor": 5
}
